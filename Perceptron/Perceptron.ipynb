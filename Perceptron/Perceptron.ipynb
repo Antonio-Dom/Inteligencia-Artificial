{
  "nbformat": 4,
  "nbformat_minor": 0,
  "metadata": {
    "colab": {
      "provenance": []
    },
    "kernelspec": {
      "name": "python3",
      "display_name": "Python 3"
    },
    "language_info": {
      "name": "python"
    }
  },
  "cells": [
    {
      "cell_type": "code",
      "source": [
        "import numpy as np\n",
        "\n",
        "\n",
        "def unit_step_func(x):\n",
        "    return np.where(x > 0, 1, 0)\n",
        "\n",
        "\n",
        "class Perceptron:\n",
        "    def __init__(self, learning_rate=0.01, n_iters=1000):\n",
        "        self.lr = learning_rate\n",
        "        self.n_iters = n_iters\n",
        "        self.activation_func = unit_step_func\n",
        "        self.weights = None\n",
        "        self.bias = None\n",
        "\n",
        "    def fit(self, X, y):\n",
        "        n_samples, n_features = X.shape\n",
        "\n",
        "        # Inicializar parámetros\n",
        "        self.weights = np.zeros(n_features)\n",
        "        self.bias = 0\n",
        "\n",
        "        # Convertir los valores objetivo a 1 y 0\n",
        "        y_ = np.where(y > 0, 1, 0)\n",
        "\n",
        "        # Aprender los pesos\n",
        "        for _ in range(self.n_iters):\n",
        "            for idx, x_i in enumerate(X):\n",
        "                linear_output = np.dot(x_i, self.weights) + self.bias\n",
        "                y_predicted = self.activation_func(linear_output)\n",
        "\n",
        "                # Regla de actualización del perceptrón\n",
        "                update = self.lr * (y_[idx] - y_predicted)\n",
        "                self.weights += update * x_i\n",
        "                self.bias += update\n",
        "\n",
        "    def predict(self, X):\n",
        "        linear_output = np.dot(X, self.weights) + self.bias\n",
        "        y_predicted = self.activation_func(linear_output)\n",
        "        return y_predicted\n",
        "\n",
        "\n",
        "\n",
        "\n",
        "    \n",
        "\n",
        "    \n"
      ],
      "metadata": {
        "id": "NOsHdH0Dvztw"
      },
      "execution_count": 35,
      "outputs": []
    },
    {
      "cell_type": "code",
      "source": [
        "# Testeo\n",
        "if __name__ == \"__main__\":\n",
        "    # Imports\n",
        "    import matplotlib.pyplot as plt\n",
        "    from sklearn.model_selection import train_test_split\n",
        "    from sklearn import datasets\n",
        "\n",
        "    def accuracy(y_true, y_pred):\n",
        "        accuracy = np.sum(y_true == y_pred) / len(y_true)\n",
        "        return accuracy\n",
        "\n",
        "    # Generar un conjunto de datos de prueba (blob)\n",
        "    X, y = datasets.make_blobs(\n",
        "        n_samples=150, n_features=2, centers=2, cluster_std=1.05, random_state=2\n",
        "    )\n",
        "    X_train, X_test, y_train, y_test = train_test_split(\n",
        "        X, y, test_size=0.2, random_state=123\n",
        "    )"
      ],
      "metadata": {
        "id": "Tr9-kJqKwWK1"
      },
      "execution_count": null,
      "outputs": []
    },
    {
      "cell_type": "code",
      "source": [
        "# Crear y entrenar el modelo del perceptrón\n",
        "    p = Perceptron(learning_rate=0.01, n_iters=1000)\n",
        "    p.fit(X_train, y_train)\n",
        "    predictions = p.predict(X_test)\n",
        "\n",
        "    print(\"Exactitud de clasificación del perceptrón:\", accuracy(y_test, predictions))"
      ],
      "metadata": {
        "id": "PABPJcyIwT_6"
      },
      "execution_count": null,
      "outputs": []
    },
    {
      "cell_type": "code",
      "source": [
        "# Graficar los puntos de entrenamiento y el límite de decisión\n",
        "    fig = plt.figure()\n",
        "    ax = fig.add_subplot(1, 1, 1)\n",
        "    plt.scatter(X_train[:, 0], X_train[:, 1], marker=\"o\", c=y_train)\n",
        "\n",
        "    x0_1 = np.amin(X_train[:, 0])\n",
        "    x0_2 = np.amax(X_train[:, 0])\n",
        "\n",
        "    x1_1 = (-p.weights[0] * x0_1 - p.bias) / p.weights[1]\n",
        "    x1_2 = (-p.weights[0] * x0_2 - p.bias) / p.weights[1]\n",
        "\n",
        "    ax.plot([x0_1, x0_2], [x1_1, x1_2], \"k\")\n",
        "\n",
        "    ymin = np.amin(X_train[:, 1])\n",
        "    ymax = np.amax(X_train[:, 1])\n",
        "    ax.set_ylim([ymin - 3, ymax + 3])\n",
        "\n",
        "    plt.show()"
      ],
      "metadata": {
        "id": "eQH-s6-kwOhf"
      },
      "execution_count": null,
      "outputs": []
    }
  ]
}